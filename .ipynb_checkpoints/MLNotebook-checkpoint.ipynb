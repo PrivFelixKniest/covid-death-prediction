{
 "cells": [
  {
   "cell_type": "markdown",
   "id": "d890613a",
   "metadata": {},
   "source": [
    "### Import and Prep"
   ]
  },
  {
   "cell_type": "code",
   "execution_count": 83,
   "id": "373ce46b",
   "metadata": {},
   "outputs": [],
   "source": [
    "import pandas as pd\n",
    "import numpy as np\n",
    "from sklearn.ensemble import GradientBoostingRegressor\n",
    "from sklearn.ensemble import HistGradientBoostingRegressor\n",
    "from sklearn.model_selection import train_test_split\n",
    "from sklearn import preprocessing\n",
    "\n",
    "\n",
    "#import csv\n",
    "X_output = pd.read_csv(\"test.csv\")\n",
    "y_output = pd.read_csv(\"sample_submission.csv\")\n",
    "\n",
    "data_train = pd.read_csv(\"train.csv\")\n",
    "X = data_train.drop(columns=[\"Next Week's Deaths\"])\n",
    "y = data_train[\"Next Week's Deaths\"]\n",
    "\n",
    "X_train, X_test, y_train, y_test = train_test_split(X, y, test_size=0.2, random_state=20)\n",
    "\n",
    "#prepare for fit and predict (transform strings to indicators -int-)\n",
    "Location = data_train[\"Location\"]\n",
    "le = preprocessing.LabelEncoder()\n",
    "le.fit(Location)\n",
    "\n",
    "LocationToInt = le.transform(Location)\n",
    "LocationDict = dict(zip(Location, LocationToInt))\n",
    "\n",
    "X_train[\"Location\"] = X_train[\"Location\"].replace(LocationDict)\n",
    "X_test[\"Location\"] = X_train[\"Location\"].replace(LocationDict)\n",
    "X_output[\"Location\"] = X_output[\"Location\"].replace(LocationDict)\n",
    "\n",
    "#cleanse data??\n",
    "X_train = X_train.drop([\"Id\"], axis=1)\n",
    "X_test = X_test.drop([\"Id\"], axis=1)\n",
    "X_output = X_output.drop([\"Id\"], axis=1)\n",
    "\n",
    "\n",
    "X_train = X_train.fillna(0)\n",
    "X_test = X_test.fillna(0)\n",
    "X_output = X_output.fillna(0)\n",
    "# X_train.head()"
   ]
  },
  {
   "cell_type": "markdown",
   "id": "0a1c64b7",
   "metadata": {},
   "source": [
    "### Train and Test"
   ]
  },
  {
   "cell_type": "code",
   "execution_count": 84,
   "id": "52ff27f5",
   "metadata": {},
   "outputs": [
    {
     "name": "stdout",
     "output_type": "stream",
     "text": [
      "72911.8505499\n",
      "0.9940716176210604\n"
     ]
    }
   ],
   "source": [
    "import time\n",
    "\n",
    "\n",
    "#train run and test\n",
    "time_start = time.perf_counter()\n",
    "#model = HistGradientBoostingRegressor(max_bins=255, max_iter=999999999999999999999999999999999999999999999999999999999999999999999999999999999999999999999999999999999999999999999999999999999999999999999999999999999999999)\n",
    "model = GradientBoostingRegressor(max_depth=6, n_estimators=2000, subsample=1)\n",
    "    #early stopping = False possible (really long times)\n",
    "model.fit(X_train, y_train)\n",
    "time_elapsed = (time.perf_counter() - time_start)\n",
    "print(time_elapsed)\n",
    "print(model.score(X_test,y_test))\n",
    "\n",
    "#time 1111.4497s = 18,51 min for est=2000 max depth=6 -- score 0.996\n",
    "#time 72911.8505s = 20,25h for est=150000 max depth=10 -- score 0.994 !!! oof"
   ]
  },
  {
   "cell_type": "markdown",
   "id": "7afba9ff",
   "metadata": {},
   "source": [
    "### Import model and Reuse"
   ]
  },
  {
   "cell_type": "code",
   "execution_count": null,
   "id": "884c66da",
   "metadata": {},
   "outputs": [],
   "source": [
    "import pickle\n",
    "\n",
    "pickled_model = pickle.load(open(\"model.pkl\", \"rb\"))\n",
    "print(pickled_model.score(X_test, y_test))"
   ]
  },
  {
   "cell_type": "markdown",
   "id": "b4396cce",
   "metadata": {},
   "source": [
    "### Dump and Export"
   ]
  },
  {
   "cell_type": "code",
   "execution_count": 86,
   "id": "eb37e0e9",
   "metadata": {},
   "outputs": [
    {
     "name": "stdout",
     "output_type": "stream",
     "text": [
      "<class 'pandas.core.frame.DataFrame'>\n",
      "RangeIndex: 43052 entries, 0 to 43051\n",
      "Data columns (total 2 columns):\n",
      " #   Column              Non-Null Count  Dtype  \n",
      "---  ------              --------------  -----  \n",
      " 0   Id                  43052 non-null  int64  \n",
      " 1   Next Week's Deaths  43052 non-null  float64\n",
      "dtypes: float64(1), int64(1)\n",
      "memory usage: 672.8 KB\n"
     ]
    }
   ],
   "source": [
    "import pickle\n",
    "#dump model\n",
    "pickle.dump(model, open(\"model.pkl\", \"wb\"))\n",
    "\n",
    "\n",
    "#dump output\n",
    "y_output[\"Next Week's Deaths\"] = model.predict(X_output)\n",
    "y_output.to_csv(\"G:\\Dateien\\-Coden-\\Python\\Jupyter - Corona Death Prediction\\outputlongtraining.csv\", index=False)\n",
    "y_output.info()"
   ]
  }
 ],
 "metadata": {
  "kernelspec": {
   "display_name": "Python 3 (ipykernel)",
   "language": "python",
   "name": "python3"
  },
  "language_info": {
   "codemirror_mode": {
    "name": "ipython",
    "version": 3
   },
   "file_extension": ".py",
   "mimetype": "text/x-python",
   "name": "python",
   "nbconvert_exporter": "python",
   "pygments_lexer": "ipython3",
   "version": "3.10.5"
  }
 },
 "nbformat": 4,
 "nbformat_minor": 5
}
